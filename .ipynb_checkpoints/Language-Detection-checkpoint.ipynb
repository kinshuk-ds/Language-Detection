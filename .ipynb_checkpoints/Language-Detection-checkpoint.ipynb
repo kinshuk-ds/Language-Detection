{
 "cells": [
  {
   "cell_type": "code",
   "execution_count": 1,
   "metadata": {
    "id": "9KuB41Xylsfr"
   },
   "outputs": [
    {
     "name": "stderr",
     "output_type": "stream",
     "text": [
      "C:\\Users\\HP\\anaconda3\\lib\\site-packages\\scipy\\__init__.py:146: UserWarning: A NumPy version >=1.16.5 and <1.23.0 is required for this version of SciPy (detected version 1.24.0\n",
      "  warnings.warn(f\"A NumPy version >={np_minversion} and <{np_maxversion}\"\n"
     ]
    }
   ],
   "source": [
    "import pandas as pd\n",
    "import nltk\n",
    "import string\n",
    "import re\n",
    "import seaborn as sns\n",
    "import warnings\n",
    "warnings.filterwarnings('ignore')"
   ]
  },
  {
   "cell_type": "code",
   "execution_count": 2,
   "metadata": {
    "id": "KDJAdn1Hlx9q"
   },
   "outputs": [],
   "source": [
    "from sklearn.metrics import accuracy_score, confusion_matrix, classification_report\n",
    "from sklearn.feature_extraction.text import TfidfVectorizer\n",
    "from sklearn import pipeline\n",
    "from sklearn.linear_model import LogisticRegression\n",
    "from sklearn.model_selection import train_test_split"
   ]
  },
  {
   "cell_type": "code",
   "execution_count": 3,
   "metadata": {
    "id": "sBRGxCqWlza5"
   },
   "outputs": [],
   "source": [
    "#Read  csv datasets into data frames\n",
    "dataFrame1 = pd.read_csv('Language Detection.csv')"
   ]
  },
  {
   "cell_type": "code",
   "execution_count": 4,
   "metadata": {
    "id": "3q3pTpaupRDP"
   },
   "outputs": [],
   "source": [
    "dataFrame2 = pd.read_csv('hindi.csv')"
   ]
  },
  {
   "cell_type": "code",
   "execution_count": 5,
   "metadata": {
    "colab": {
     "base_uri": "https://localhost:8080/",
     "height": 423
    },
    "id": "sRiWvepul0s5",
    "outputId": "040f512c-0591-47d4-dd4d-b3098019013a"
   },
   "outputs": [
    {
     "data": {
      "text/html": [
       "<div>\n",
       "<style scoped>\n",
       "    .dataframe tbody tr th:only-of-type {\n",
       "        vertical-align: middle;\n",
       "    }\n",
       "\n",
       "    .dataframe tbody tr th {\n",
       "        vertical-align: top;\n",
       "    }\n",
       "\n",
       "    .dataframe thead th {\n",
       "        text-align: right;\n",
       "    }\n",
       "</style>\n",
       "<table border=\"1\" class=\"dataframe\">\n",
       "  <thead>\n",
       "    <tr style=\"text-align: right;\">\n",
       "      <th></th>\n",
       "      <th>Text</th>\n",
       "      <th>Language</th>\n",
       "    </tr>\n",
       "  </thead>\n",
       "  <tbody>\n",
       "    <tr>\n",
       "      <th>0</th>\n",
       "      <td>Nature, in the broadest sense, is the natural...</td>\n",
       "      <td>English</td>\n",
       "    </tr>\n",
       "    <tr>\n",
       "      <th>1</th>\n",
       "      <td>\"Nature\" can refer to the phenomena of the phy...</td>\n",
       "      <td>English</td>\n",
       "    </tr>\n",
       "    <tr>\n",
       "      <th>2</th>\n",
       "      <td>The study of nature is a large, if not the onl...</td>\n",
       "      <td>English</td>\n",
       "    </tr>\n",
       "    <tr>\n",
       "      <th>3</th>\n",
       "      <td>Although humans are part of nature, human acti...</td>\n",
       "      <td>English</td>\n",
       "    </tr>\n",
       "    <tr>\n",
       "      <th>4</th>\n",
       "      <td>[1] The word nature is borrowed from the Old F...</td>\n",
       "      <td>English</td>\n",
       "    </tr>\n",
       "    <tr>\n",
       "      <th>...</th>\n",
       "      <td>...</td>\n",
       "      <td>...</td>\n",
       "    </tr>\n",
       "    <tr>\n",
       "      <th>10332</th>\n",
       "      <td>ನಿಮ್ಮ ತಪ್ಪು ಏನು ಬಂದಿದೆಯೆಂದರೆ ಆ ದಿನದಿಂದ ನಿಮಗೆ ಒ...</td>\n",
       "      <td>Kannada</td>\n",
       "    </tr>\n",
       "    <tr>\n",
       "      <th>10333</th>\n",
       "      <td>ನಾರ್ಸಿಸಾ ತಾನು ಮೊದಲಿಗೆ ಹೆಣಗಾಡುತ್ತಿದ್ದ ಮಾರ್ಗಗಳನ್...</td>\n",
       "      <td>Kannada</td>\n",
       "    </tr>\n",
       "    <tr>\n",
       "      <th>10334</th>\n",
       "      <td>ಹೇಗೆ ' ನಾರ್ಸಿಸಿಸಮ್ ಈಗ ಮರಿಯನ್ ಅವರಿಗೆ ಸಂಭವಿಸಿದ ಎ...</td>\n",
       "      <td>Kannada</td>\n",
       "    </tr>\n",
       "    <tr>\n",
       "      <th>10335</th>\n",
       "      <td>ಅವಳು ಈಗ ಹೆಚ್ಚು ಚಿನ್ನದ ಬ್ರೆಡ್ ಬಯಸುವುದಿಲ್ಲ ಎಂದು ...</td>\n",
       "      <td>Kannada</td>\n",
       "    </tr>\n",
       "    <tr>\n",
       "      <th>10336</th>\n",
       "      <td>ಟೆರ್ರಿ ನೀವು ನಿಜವಾಗಿಯೂ ಆ ದೇವದೂತನಂತೆ ಸ್ವಲ್ಪ ಕಾಣು...</td>\n",
       "      <td>Kannada</td>\n",
       "    </tr>\n",
       "  </tbody>\n",
       "</table>\n",
       "<p>10337 rows × 2 columns</p>\n",
       "</div>"
      ],
      "text/plain": [
       "                                                    Text Language\n",
       "0       Nature, in the broadest sense, is the natural...  English\n",
       "1      \"Nature\" can refer to the phenomena of the phy...  English\n",
       "2      The study of nature is a large, if not the onl...  English\n",
       "3      Although humans are part of nature, human acti...  English\n",
       "4      [1] The word nature is borrowed from the Old F...  English\n",
       "...                                                  ...      ...\n",
       "10332  ನಿಮ್ಮ ತಪ್ಪು ಏನು ಬಂದಿದೆಯೆಂದರೆ ಆ ದಿನದಿಂದ ನಿಮಗೆ ಒ...  Kannada\n",
       "10333  ನಾರ್ಸಿಸಾ ತಾನು ಮೊದಲಿಗೆ ಹೆಣಗಾಡುತ್ತಿದ್ದ ಮಾರ್ಗಗಳನ್...  Kannada\n",
       "10334  ಹೇಗೆ ' ನಾರ್ಸಿಸಿಸಮ್ ಈಗ ಮರಿಯನ್ ಅವರಿಗೆ ಸಂಭವಿಸಿದ ಎ...  Kannada\n",
       "10335  ಅವಳು ಈಗ ಹೆಚ್ಚು ಚಿನ್ನದ ಬ್ರೆಡ್ ಬಯಸುವುದಿಲ್ಲ ಎಂದು ...  Kannada\n",
       "10336  ಟೆರ್ರಿ ನೀವು ನಿಜವಾಗಿಯೂ ಆ ದೇವದೂತನಂತೆ ಸ್ವಲ್ಪ ಕಾಣು...  Kannada\n",
       "\n",
       "[10337 rows x 2 columns]"
      ]
     },
     "execution_count": 5,
     "metadata": {},
     "output_type": "execute_result"
    }
   ],
   "source": [
    "#Show/ print dataFrame 1\n",
    "dataFrame1"
   ]
  },
  {
   "cell_type": "code",
   "execution_count": 6,
   "metadata": {
    "colab": {
     "base_uri": "https://localhost:8080/",
     "height": 423
    },
    "id": "omnC0EyIl2Ib",
    "outputId": "57188783-6d4b-4f4b-b9cf-8c81d6d4d3a6"
   },
   "outputs": [
    {
     "data": {
      "text/html": [
       "<div>\n",
       "<style scoped>\n",
       "    .dataframe tbody tr th:only-of-type {\n",
       "        vertical-align: middle;\n",
       "    }\n",
       "\n",
       "    .dataframe tbody tr th {\n",
       "        vertical-align: top;\n",
       "    }\n",
       "\n",
       "    .dataframe thead th {\n",
       "        text-align: right;\n",
       "    }\n",
       "</style>\n",
       "<table border=\"1\" class=\"dataframe\">\n",
       "  <thead>\n",
       "    <tr style=\"text-align: right;\">\n",
       "      <th></th>\n",
       "      <th>Text</th>\n",
       "      <th>Language</th>\n",
       "    </tr>\n",
       "  </thead>\n",
       "  <tbody>\n",
       "    <tr>\n",
       "      <th>0</th>\n",
       "      <td>चंद्रमोहन शर्मा को-प्रड्यूसर और लीड ऐक्टर अक्ष...</td>\n",
       "      <td>Hindi</td>\n",
       "    </tr>\n",
       "    <tr>\n",
       "      <th>1</th>\n",
       "      <td>अगर आप इस फिल्म को देखने जा रहे हैं तो सबसे पह...</td>\n",
       "      <td>Hindi</td>\n",
       "    </tr>\n",
       "    <tr>\n",
       "      <th>2</th>\n",
       "      <td>बॉलीवुड वाले चोरी-छिपे हॉलीवुड फिल्मों से कहान...</td>\n",
       "      <td>Hindi</td>\n",
       "    </tr>\n",
       "    <tr>\n",
       "      <th>3</th>\n",
       "      <td>बैनर :\\nसंजय दत्त प्रोडक्शन्स प्रा.लि., रुपाली...</td>\n",
       "      <td>Hindi</td>\n",
       "    </tr>\n",
       "    <tr>\n",
       "      <th>4</th>\n",
       "      <td>1959 में घटित चर्चित नानावटी कांड में एक क्राइ...</td>\n",
       "      <td>Hindi</td>\n",
       "    </tr>\n",
       "    <tr>\n",
       "      <th>...</th>\n",
       "      <td>...</td>\n",
       "      <td>...</td>\n",
       "    </tr>\n",
       "    <tr>\n",
       "      <th>713</th>\n",
       "      <td>31 अक्टूबर 1984 को काला दिवस कहा जाता है। इस द...</td>\n",
       "      <td>Hindi</td>\n",
       "    </tr>\n",
       "    <tr>\n",
       "      <th>714</th>\n",
       "      <td>\\n\\nगुंडे को देख सत्तर और अस्सी के दशक का सिने...</td>\n",
       "      <td>Hindi</td>\n",
       "    </tr>\n",
       "    <tr>\n",
       "      <th>715</th>\n",
       "      <td>Chandermohan.sharma@timesgroup.com ग्लैमर इंडस...</td>\n",
       "      <td>Hindi</td>\n",
       "    </tr>\n",
       "    <tr>\n",
       "      <th>716</th>\n",
       "      <td>निर्माता :\\nसुनीता गोवारीकर, अजय बिजली, संजीव ...</td>\n",
       "      <td>Hindi</td>\n",
       "    </tr>\n",
       "    <tr>\n",
       "      <th>717</th>\n",
       "      <td>फोर्स 2 उन अंडरकवर एजेंट्स को समर्पित है जो सम...</td>\n",
       "      <td>Hindi</td>\n",
       "    </tr>\n",
       "  </tbody>\n",
       "</table>\n",
       "<p>718 rows × 2 columns</p>\n",
       "</div>"
      ],
      "text/plain": [
       "                                                  Text Language\n",
       "0    चंद्रमोहन शर्मा को-प्रड्यूसर और लीड ऐक्टर अक्ष...    Hindi\n",
       "1    अगर आप इस फिल्म को देखने जा रहे हैं तो सबसे पह...    Hindi\n",
       "2    बॉलीवुड वाले चोरी-छिपे हॉलीवुड फिल्मों से कहान...    Hindi\n",
       "3    बैनर :\\nसंजय दत्त प्रोडक्शन्स प्रा.लि., रुपाली...    Hindi\n",
       "4    1959 में घटित चर्चित नानावटी कांड में एक क्राइ...    Hindi\n",
       "..                                                 ...      ...\n",
       "713  31 अक्टूबर 1984 को काला दिवस कहा जाता है। इस द...    Hindi\n",
       "714  \\n\\nगुंडे को देख सत्तर और अस्सी के दशक का सिने...    Hindi\n",
       "715  Chandermohan.sharma@timesgroup.com ग्लैमर इंडस...    Hindi\n",
       "716  निर्माता :\\nसुनीता गोवारीकर, अजय बिजली, संजीव ...    Hindi\n",
       "717  फोर्स 2 उन अंडरकवर एजेंट्स को समर्पित है जो सम...    Hindi\n",
       "\n",
       "[718 rows x 2 columns]"
      ]
     },
     "execution_count": 6,
     "metadata": {},
     "output_type": "execute_result"
    }
   ],
   "source": [
    "#Show/ print dataFrame 2\n",
    "dataFrame2"
   ]
  },
  {
   "cell_type": "code",
   "execution_count": 7,
   "metadata": {
    "id": "cJJdGv1El2vZ"
   },
   "outputs": [],
   "source": [
    "#Combine data frame 1 and 2 togeather\n",
    "dataFrame = dataFrame1.append(dataFrame2,ignore_index = True) #ignore_index: bool, default False If True, the resulting axis will be labeled 0, 1, …, n - 1"
   ]
  },
  {
   "cell_type": "markdown",
   "metadata": {
    "id": "7ktOBogvl5c9"
   },
   "source": [
    "# Initial Insights of Data"
   ]
  },
  {
   "cell_type": "code",
   "execution_count": 8,
   "metadata": {
    "colab": {
     "base_uri": "https://localhost:8080/"
    },
    "id": "JBKSdre0l7YS",
    "outputId": "423f49f5-4f7c-45f3-8a38-df8cb06e6bd1"
   },
   "outputs": [
    {
     "name": "stdout",
     "output_type": "stream",
     "text": [
      "<class 'pandas.core.frame.DataFrame'>\n",
      "RangeIndex: 11055 entries, 0 to 11054\n",
      "Data columns (total 2 columns):\n",
      " #   Column    Non-Null Count  Dtype \n",
      "---  ------    --------------  ----- \n",
      " 0   Text      11055 non-null  object\n",
      " 1   Language  11055 non-null  object\n",
      "dtypes: object(2)\n",
      "memory usage: 172.9+ KB\n"
     ]
    }
   ],
   "source": [
    "dataFrame.info()"
   ]
  },
  {
   "cell_type": "code",
   "execution_count": 9,
   "metadata": {
    "colab": {
     "base_uri": "https://localhost:8080/"
    },
    "id": "fdZDLhr0l-Fx",
    "outputId": "b7721fc5-34bf-494e-a89a-bb36d79bce94"
   },
   "outputs": [
    {
     "data": {
      "text/plain": [
       "English       1385\n",
       "French        1014\n",
       "Spanish        819\n",
       "Hindi          781\n",
       "Portugeese     739\n",
       "Italian        698\n",
       "Russian        692\n",
       "Sweedish       676\n",
       "Malayalam      594\n",
       "Dutch          546\n",
       "Arabic         536\n",
       "Turkish        474\n",
       "German         470\n",
       "Tamil          469\n",
       "Danish         428\n",
       "Kannada        369\n",
       "Greek          365\n",
       "Name: Language, dtype: int64"
      ]
     },
     "execution_count": 9,
     "metadata": {},
     "output_type": "execute_result"
    }
   ],
   "source": [
    "#Show/ print target value's no. of sentences: for each language, how many texts/ sentences are there in the dataframe ?\n",
    "dataFrame.Language.value_counts()"
   ]
  },
  {
   "cell_type": "code",
   "execution_count": 10,
   "metadata": {
    "colab": {
     "base_uri": "https://localhost:8080/",
     "height": 156
    },
    "id": "O4IfLXKNl-kx",
    "outputId": "d20cb74b-c8a8-4ed5-9ec9-bd43116a33a7"
   },
   "outputs": [
    {
     "data": {
      "text/html": [
       "<div>\n",
       "<style scoped>\n",
       "    .dataframe tbody tr th:only-of-type {\n",
       "        vertical-align: middle;\n",
       "    }\n",
       "\n",
       "    .dataframe tbody tr th {\n",
       "        vertical-align: top;\n",
       "    }\n",
       "\n",
       "    .dataframe thead th {\n",
       "        text-align: right;\n",
       "    }\n",
       "</style>\n",
       "<table border=\"1\" class=\"dataframe\">\n",
       "  <thead>\n",
       "    <tr style=\"text-align: right;\">\n",
       "      <th></th>\n",
       "      <th>Text</th>\n",
       "      <th>Language</th>\n",
       "    </tr>\n",
       "  </thead>\n",
       "  <tbody>\n",
       "    <tr>\n",
       "      <th>1691</th>\n",
       "      <td>നിങ്ങൾക്ക് ശരിക്കും മറുപടി നൽകാൻ കഴിയും എല്ലാം...</td>\n",
       "      <td>Malayalam</td>\n",
       "    </tr>\n",
       "    <tr>\n",
       "      <th>1509</th>\n",
       "      <td>തങ്ങൾ ചെയ്യുന്നതും വിക്കിപീഡിയക്ക് നല്കുന്നതുമ...</td>\n",
       "      <td>Malayalam</td>\n",
       "    </tr>\n",
       "  </tbody>\n",
       "</table>\n",
       "</div>"
      ],
      "text/plain": [
       "                                                   Text   Language\n",
       "1691  നിങ്ങൾക്ക് ശരിക്കും മറുപടി നൽകാൻ കഴിയും എല്ലാം...  Malayalam\n",
       "1509  തങ്ങൾ ചെയ്യുന്നതും വിക്കിപീഡിയക്ക് നല്കുന്നതുമ...  Malayalam"
      ]
     },
     "execution_count": 10,
     "metadata": {},
     "output_type": "execute_result"
    }
   ],
   "source": [
    "#Language is the target value name\n",
    "#Print 2 text samples with target value Language is Malayalam\n",
    "dataFrame[dataFrame.Language == 'Malayalam'].sample(2)"
   ]
  },
  {
   "cell_type": "code",
   "execution_count": 11,
   "metadata": {
    "colab": {
     "base_uri": "https://localhost:8080/",
     "height": 112
    },
    "id": "I2L76ArTmBJp",
    "outputId": "0ce292e5-f3d3-41c3-8912-751381fadfc2"
   },
   "outputs": [
    {
     "data": {
      "text/html": [
       "<div>\n",
       "<style scoped>\n",
       "    .dataframe tbody tr th:only-of-type {\n",
       "        vertical-align: middle;\n",
       "    }\n",
       "\n",
       "    .dataframe tbody tr th {\n",
       "        vertical-align: top;\n",
       "    }\n",
       "\n",
       "    .dataframe thead th {\n",
       "        text-align: right;\n",
       "    }\n",
       "</style>\n",
       "<table border=\"1\" class=\"dataframe\">\n",
       "  <thead>\n",
       "    <tr style=\"text-align: right;\">\n",
       "      <th></th>\n",
       "      <th>Text</th>\n",
       "      <th>Language</th>\n",
       "    </tr>\n",
       "  </thead>\n",
       "  <tbody>\n",
       "    <tr>\n",
       "      <th>9079</th>\n",
       "      <td>[75] يمكن أن يؤدي هذا في بعض الأحيان إلى إزالة...</td>\n",
       "      <td>Arabic</td>\n",
       "    </tr>\n",
       "    <tr>\n",
       "      <th>9153</th>\n",
       "      <td>يُنصح لهذا بقراءة الويكي دائما بنظرة ناقدة.</td>\n",
       "      <td>Arabic</td>\n",
       "    </tr>\n",
       "  </tbody>\n",
       "</table>\n",
       "</div>"
      ],
      "text/plain": [
       "                                                   Text Language\n",
       "9079  [75] يمكن أن يؤدي هذا في بعض الأحيان إلى إزالة...   Arabic\n",
       "9153        يُنصح لهذا بقراءة الويكي دائما بنظرة ناقدة.   Arabic"
      ]
     },
     "execution_count": 11,
     "metadata": {},
     "output_type": "execute_result"
    }
   ],
   "source": [
    "#Language is the target value name\n",
    "#Print 2 text samples with target value Language is Arabic\n",
    "dataFrame[dataFrame.Language == 'Arabic'].sample(2)"
   ]
  },
  {
   "cell_type": "code",
   "execution_count": 12,
   "metadata": {
    "colab": {
     "base_uri": "https://localhost:8080/",
     "height": 112
    },
    "id": "UIEvDBWAmCRm",
    "outputId": "4423e8eb-8217-40e8-b775-155d7f73f2dc"
   },
   "outputs": [
    {
     "data": {
      "text/html": [
       "<div>\n",
       "<style scoped>\n",
       "    .dataframe tbody tr th:only-of-type {\n",
       "        vertical-align: middle;\n",
       "    }\n",
       "\n",
       "    .dataframe tbody tr th {\n",
       "        vertical-align: top;\n",
       "    }\n",
       "\n",
       "    .dataframe thead th {\n",
       "        text-align: right;\n",
       "    }\n",
       "</style>\n",
       "<table border=\"1\" class=\"dataframe\">\n",
       "  <thead>\n",
       "    <tr style=\"text-align: right;\">\n",
       "      <th></th>\n",
       "      <th>Text</th>\n",
       "      <th>Language</th>\n",
       "    </tr>\n",
       "  </thead>\n",
       "  <tbody>\n",
       "    <tr>\n",
       "      <th>2265</th>\n",
       "      <td>நான் எப்போதும் செய்கிறேன், நீங்கள் விரல்களைக் ...</td>\n",
       "      <td>Tamil</td>\n",
       "    </tr>\n",
       "    <tr>\n",
       "      <th>2441</th>\n",
       "      <td>என்னால் போதுமான நன்றி சொல்ல முடியாது.</td>\n",
       "      <td>Tamil</td>\n",
       "    </tr>\n",
       "  </tbody>\n",
       "</table>\n",
       "</div>"
      ],
      "text/plain": [
       "                                                   Text Language\n",
       "2265  நான் எப்போதும் செய்கிறேன், நீங்கள் விரல்களைக் ...    Tamil\n",
       "2441              என்னால் போதுமான நன்றி சொல்ல முடியாது.    Tamil"
      ]
     },
     "execution_count": 12,
     "metadata": {},
     "output_type": "execute_result"
    }
   ],
   "source": [
    "#Language is the target value name\n",
    "#Print 2 text samples with target value Language is Tamil\n",
    "dataFrame[dataFrame.Language == 'Tamil'].sample(2)"
   ]
  },
  {
   "cell_type": "code",
   "execution_count": 13,
   "metadata": {
    "colab": {
     "base_uri": "https://localhost:8080/",
     "height": 112
    },
    "id": "oKDdkz1wmEJp",
    "outputId": "8fad7e39-f315-4810-daa0-bba75c543418"
   },
   "outputs": [
    {
     "data": {
      "text/html": [
       "<div>\n",
       "<style scoped>\n",
       "    .dataframe tbody tr th:only-of-type {\n",
       "        vertical-align: middle;\n",
       "    }\n",
       "\n",
       "    .dataframe tbody tr th {\n",
       "        vertical-align: top;\n",
       "    }\n",
       "\n",
       "    .dataframe thead th {\n",
       "        text-align: right;\n",
       "    }\n",
       "</style>\n",
       "<table border=\"1\" class=\"dataframe\">\n",
       "  <thead>\n",
       "    <tr style=\"text-align: right;\">\n",
       "      <th></th>\n",
       "      <th>Text</th>\n",
       "      <th>Language</th>\n",
       "    </tr>\n",
       "  </thead>\n",
       "  <tbody>\n",
       "    <tr>\n",
       "      <th>10261</th>\n",
       "      <td>ಇಲ್ಲ, ನಾನು ಒಳ್ಳೆಯವನು, ಧನ್ಯವಾದಗಳು.</td>\n",
       "      <td>Kannada</td>\n",
       "    </tr>\n",
       "    <tr>\n",
       "      <th>10327</th>\n",
       "      <td>ಗಾಡಿಯಲ್ಲಿ ಮನೆಯಲ್ಲಿ ನಾರ್ಸಿಸ್ ಅವಳು ಮನೆಗೆ ತಲುಪಿದಾ...</td>\n",
       "      <td>Kannada</td>\n",
       "    </tr>\n",
       "  </tbody>\n",
       "</table>\n",
       "</div>"
      ],
      "text/plain": [
       "                                                    Text Language\n",
       "10261                  ಇಲ್ಲ, ನಾನು ಒಳ್ಳೆಯವನು, ಧನ್ಯವಾದಗಳು.  Kannada\n",
       "10327  ಗಾಡಿಯಲ್ಲಿ ಮನೆಯಲ್ಲಿ ನಾರ್ಸಿಸ್ ಅವಳು ಮನೆಗೆ ತಲುಪಿದಾ...  Kannada"
      ]
     },
     "execution_count": 13,
     "metadata": {},
     "output_type": "execute_result"
    }
   ],
   "source": [
    "#Language is the target value name\n",
    "#Print 2 text samples with target value Language is Kannada\n",
    "dataFrame[dataFrame.Language == 'Kannada'].sample(2)"
   ]
  },
  {
   "cell_type": "code",
   "execution_count": 14,
   "metadata": {
    "colab": {
     "base_uri": "https://localhost:8080/",
     "height": 112
    },
    "id": "GVfX_xPamFOQ",
    "outputId": "2a130b58-6111-4b86-edae-aaa4742e7716"
   },
   "outputs": [
    {
     "data": {
      "text/html": [
       "<div>\n",
       "<style scoped>\n",
       "    .dataframe tbody tr th:only-of-type {\n",
       "        vertical-align: middle;\n",
       "    }\n",
       "\n",
       "    .dataframe tbody tr th {\n",
       "        vertical-align: top;\n",
       "    }\n",
       "\n",
       "    .dataframe thead th {\n",
       "        text-align: right;\n",
       "    }\n",
       "</style>\n",
       "<table border=\"1\" class=\"dataframe\">\n",
       "  <thead>\n",
       "    <tr style=\"text-align: right;\">\n",
       "      <th></th>\n",
       "      <th>Text</th>\n",
       "      <th>Language</th>\n",
       "    </tr>\n",
       "  </thead>\n",
       "  <tbody>\n",
       "    <tr>\n",
       "      <th>10745</th>\n",
       "      <td>करीब दो साल पहले डायरेक्टर श्रीजीत मुखर्जी के ...</td>\n",
       "      <td>Hindi</td>\n",
       "    </tr>\n",
       "    <tr>\n",
       "      <th>10425</th>\n",
       "      <td>बैनर :\\nहरीओम प्रोडक्शन्स, थ्रीज़ कंपनी, यूटीव...</td>\n",
       "      <td>Hindi</td>\n",
       "    </tr>\n",
       "  </tbody>\n",
       "</table>\n",
       "</div>"
      ],
      "text/plain": [
       "                                                    Text Language\n",
       "10745  करीब दो साल पहले डायरेक्टर श्रीजीत मुखर्जी के ...    Hindi\n",
       "10425  बैनर :\\nहरीओम प्रोडक्शन्स, थ्रीज़ कंपनी, यूटीव...    Hindi"
      ]
     },
     "execution_count": 14,
     "metadata": {},
     "output_type": "execute_result"
    }
   ],
   "source": [
    "#Language is the target value name\n",
    "#Print 2 text samples with target value Language is Hindi\n",
    "dataFrame[dataFrame.Language == 'Hindi'].sample(2)"
   ]
  },
  {
   "cell_type": "markdown",
   "metadata": {
    "id": "g8W1os0HmFrB"
   },
   "source": [
    "# Text Preprocessing"
   ]
  },
  {
   "cell_type": "code",
   "execution_count": 15,
   "metadata": {
    "id": "addyrIkRmIjg"
   },
   "outputs": [],
   "source": [
    "#Take the text and remove symbols and numbers specified in the function\n",
    "def removeSymbolsAndNumbers(text):        \n",
    "        text = re.sub(r'[{}]'.format(string.punctuation), '', text)\n",
    "        text = re.sub(r'\\d+', '', text)\n",
    "        text = re.sub(r'[@]', '', text)\n",
    "\n",
    "        return text.lower()"
   ]
  },
  {
   "cell_type": "code",
   "execution_count": 16,
   "metadata": {
    "id": "8Xf8Evo5mKRA"
   },
   "outputs": [],
   "source": [
    "#Take the text and remove english letters specified in the function\n",
    "def removeEnglishLetters(text):        \n",
    "        text = re.sub(r'[a-zA-Z]+', '', text)\n",
    "        return text.lower()"
   ]
  },
  {
   "cell_type": "code",
   "execution_count": 17,
   "metadata": {
    "colab": {
     "base_uri": "https://localhost:8080/"
    },
    "id": "3vUtVlcDmLxo",
    "outputId": "2fbd6ccc-aa20-48db-e329-36ba21d7ef5f"
   },
   "outputs": [
    {
     "data": {
      "text/plain": [
       "0         Nature, in the broadest sense, is the natural...\n",
       "1        \"Nature\" can refer to the phenomena of the phy...\n",
       "2        The study of nature is a large, if not the onl...\n",
       "3        Although humans are part of nature, human acti...\n",
       "4        [1] The word nature is borrowed from the Old F...\n",
       "                               ...                        \n",
       "11050    31 अक्टूबर 1984 को काला दिवस कहा जाता है। इस द...\n",
       "11051    \\n\\nगुंडे को देख सत्तर और अस्सी के दशक का सिने...\n",
       "11052    .@. ग्लैमर इंडस्ट्री में आर. बाल्की को बिग बी ...\n",
       "11053    निर्माता :\\nसुनीता गोवारीकर, अजय बिजली, संजीव ...\n",
       "11054    फोर्स 2 उन अंडरकवर एजेंट्स को समर्पित है जो सम...\n",
       "Length: 11055, dtype: object"
      ]
     },
     "execution_count": 17,
     "metadata": {},
     "output_type": "execute_result"
    }
   ],
   "source": [
    "#Apply the function: removeEnglishLetters(Text) to the varibale x, if the variable x's target variable is Russian,or Malyalam, or Hindi,or Kannada,or Tamil, or Arabic:\n",
    "X0 = dataFrame.apply(lambda x: removeEnglishLetters(x.Text) if x.Language in ['Russian','Malyalam','Hindi','Kannada','Tamil','Arabic']  else x.Text, axis = 1)\n",
    "X0 #Show/ print"
   ]
  },
  {
   "cell_type": "code",
   "execution_count": 18,
   "metadata": {
    "colab": {
     "base_uri": "https://localhost:8080/"
    },
    "id": "s3rWBUcxmN0b",
    "outputId": "a8fa1550-3b45-415a-f6dd-35c4147bc840"
   },
   "outputs": [
    {
     "data": {
      "text/plain": [
       "0         nature in the broadest sense is the natural p...\n",
       "1        nature can refer to the phenomena of the physi...\n",
       "2        the study of nature is a large if not the only...\n",
       "3        although humans are part of nature human activ...\n",
       "4         the word nature is borrowed from the old fren...\n",
       "                               ...                        \n",
       "11050     अक्टूबर  को काला दिवस कहा जाता है। इस दिन तत्...\n",
       "11051    \\n\\nगुंडे को देख सत्तर और अस्सी के दशक का सिने...\n",
       "11052     ग्लैमर इंडस्ट्री में आर बाल्की को बिग बी का ऐ...\n",
       "11053    निर्माता \\nसुनीता गोवारीकर अजय बिजली संजीव के ...\n",
       "11054    फोर्स  उन अंडरकवर एजेंट्स को समर्पित है जो समय...\n",
       "Length: 11055, dtype: object"
      ]
     },
     "execution_count": 18,
     "metadata": {},
     "output_type": "execute_result"
    }
   ],
   "source": [
    "#Apply the function removeSymbolsAndNumbers to the same preproccessed data frame earlier:\n",
    "X1 = X0.apply(removeSymbolsAndNumbers)\n",
    "X1 #Show/ print"
   ]
  },
  {
   "cell_type": "code",
   "execution_count": 19,
   "metadata": {
    "id": "3Ae4GVkKmPTP"
   },
   "outputs": [],
   "source": [
    "# y = target variable\n",
    "y = dataFrame['Language']"
   ]
  },
  {
   "cell_type": "markdown",
   "metadata": {
    "id": "Md3936ulmRmZ"
   },
   "source": [
    "# Making the predictive model"
   ]
  },
  {
   "cell_type": "code",
   "execution_count": 20,
   "metadata": {
    "id": "9Bm_FifRmTJh"
   },
   "outputs": [],
   "source": [
    "#With random_state = 42, we get the same train and test sets across different executions\n",
    "x_train, x_test, y_train, y_test = train_test_split(X1,y, random_state=42)"
   ]
  },
  {
   "cell_type": "code",
   "execution_count": 21,
   "metadata": {
    "id": "AoxqnOv2mVNJ"
   },
   "outputs": [],
   "source": [
    "#TfidfVectorizer is a bag of words approach for feature extraction: ngram_range outputting one-word and three-word tokens, \"char\" to output character ngrams.\n",
    "vectorizer = TfidfVectorizer(ngram_range=(1,3), analyzer='char')"
   ]
  },
  {
   "cell_type": "code",
   "execution_count": 22,
   "metadata": {
    "id": "92UOacdLmWT9"
   },
   "outputs": [],
   "source": [
    "#Define a pipeline combining a text feature extractor: vectorizer with a simple classifier\n",
    "model = pipeline.Pipeline([\n",
    "    ('vectorizer', vectorizer),\n",
    "    ('clf', LogisticRegression())\n",
    "])"
   ]
  },
  {
   "cell_type": "code",
   "execution_count": 23,
   "metadata": {
    "colab": {
     "base_uri": "https://localhost:8080/"
    },
    "id": "w5qMr9ewmXb7",
    "outputId": "b9fd8b91-6765-4acd-c57c-b42090100ab6"
   },
   "outputs": [
    {
     "data": {
      "text/plain": [
       "Pipeline(steps=[('vectorizer',\n",
       "                 TfidfVectorizer(analyzer='char', ngram_range=(1, 3))),\n",
       "                ('clf', LogisticRegression())])"
      ]
     },
     "execution_count": 23,
     "metadata": {},
     "output_type": "execute_result"
    }
   ],
   "source": [
    "model.fit(x_train,y_train)"
   ]
  },
  {
   "cell_type": "markdown",
   "metadata": {
    "id": "vGJCbcclmZIv"
   },
   "source": [
    "# Checking for Accuracy"
   ]
  },
  {
   "cell_type": "code",
   "execution_count": 24,
   "metadata": {
    "id": "buGunSOpmaKh"
   },
   "outputs": [],
   "source": [
    "y_pred = model.predict(x_test)\n",
    "accuracy = accuracy_score(y_test,y_pred)\n",
    "cm = confusion_matrix(y_test,y_pred)"
   ]
  },
  {
   "cell_type": "code",
   "execution_count": 25,
   "metadata": {
    "colab": {
     "base_uri": "https://localhost:8080/"
    },
    "id": "54YiECgQmcJq",
    "outputId": "353881a5-f158-4628-8c6b-d7373b3ccece"
   },
   "outputs": [
    {
     "name": "stdout",
     "output_type": "stream",
     "text": [
      "Accuracy is : 0.983357452966715\n"
     ]
    }
   ],
   "source": [
    "print(\"Accuracy is :\",accuracy)"
   ]
  },
  {
   "cell_type": "code",
   "execution_count": 33,
   "metadata": {
    "colab": {
     "base_uri": "https://localhost:8080/"
    },
    "collapsed": true,
    "id": "NiizLV8GmhVU",
    "outputId": "1671dc08-151b-4941-ee17-9da178d70eed"
   },
   "outputs": [
    {
     "name": "stdout",
     "output_type": "stream",
     "text": [
      "              precision    recall  f1-score   support\n",
      "\n",
      "      Arabic       1.00      1.00      1.00       134\n",
      "      Danish       0.97      0.93      0.95       109\n",
      "       Dutch       0.97      0.95      0.96       139\n",
      "     English       0.97      0.99      0.98       349\n",
      "      French       0.99      0.99      0.99       267\n",
      "      German       0.98      0.97      0.97       118\n",
      "       Greek       1.00      1.00      1.00        95\n",
      "       Hindi       1.00      1.00      1.00       190\n",
      "     Italian       0.98      0.96      0.97       173\n",
      "     Kannada       1.00      1.00      1.00        89\n",
      "   Malayalam       1.00      0.99      1.00       156\n",
      "  Portugeese       0.98      0.97      0.98       186\n",
      "     Russian       1.00      1.00      1.00       162\n",
      "     Spanish       0.96      0.98      0.97       193\n",
      "    Sweedish       0.96      0.97      0.97       171\n",
      "       Tamil       1.00      1.00      1.00       114\n",
      "     Turkish       0.98      1.00      0.99       119\n",
      "\n",
      "    accuracy                           0.98      2764\n",
      "   macro avg       0.99      0.98      0.98      2764\n",
      "weighted avg       0.98      0.98      0.98      2764\n",
      "\n"
     ]
    }
   ],
   "source": [
    "print(classification_report(y_test,y_pred))"
   ]
  },
  {
   "cell_type": "code",
   "execution_count": 48,
   "metadata": {
    "id": "v2g5V4tgmnRh"
   },
   "outputs": [],
   "source": [
    "def predict(text):\n",
    "    lang = model.predict([text])\n",
    "    print('The Language is in', lang[0])\n"
   ]
  },
  {
   "cell_type": "markdown",
   "metadata": {
    "id": "cDadmAZ6mo8f"
   },
   "source": [
    "# Test the model with different texts"
   ]
  },
  {
   "cell_type": "code",
   "execution_count": 39,
   "metadata": {
    "colab": {
     "base_uri": "https://localhost:8080/"
    },
    "id": "HBcok8XCmrOD",
    "outputId": "d666ed8d-39f8-4f2e-ad4b-0056926cb02c"
   },
   "outputs": [
    {
     "name": "stdout",
     "output_type": "stream",
     "text": [
      "The Language is in English\n",
      "The Language is in French\n",
      "The Language is in Arabic\n",
      "The Language is in Spanish\n",
      "The Language is in Malayalam\n",
      "The Language is in Russian\n",
      "The Language is in Hindi\n",
      "The Language is in Hindi\n"
     ]
    }
   ],
   "source": [
    "predict(\"LANGUAGE DETECTION MODEL CHECK\")\n",
    "predict(\"VÉRIFICATION DU MODÈLE DE DÉTECTION DE LA LANGUE\")\n",
    "predict(\"توففحص نموذج الكشف عن اللغة\")\n",
    "predict(\"VERIFICACIÓN DEL MODELO DE DETECCIÓN DE IDIOMAS\")\n",
    "predict(\"ലാംഗ്വേജ് ഡിറ്റക്ഷൻ മോഡൽ ചെക്ക്\")\n",
    "predict(\"ПРОВЕРКА МОДЕЛИ ОПРЕДЕЛЕНИЯ ЯЗЫКА\")\n",
    "predict('भाषा का पता लगाने वाले मॉडल की जांच')\n",
    "predict(' boyit9h एनालिटिक्स alhgserog 90980879809 bguytfivb ahgseporiga प्रदान करता है')"
   ]
  },
  {
   "cell_type": "code",
   "execution_count": 45,
   "metadata": {},
   "outputs": [],
   "source": [
    "import gradio as gr"
   ]
  },
  {
   "cell_type": "code",
   "execution_count": 61,
   "metadata": {},
   "outputs": [],
   "source": [
    "def predict(text): \n",
    "    lang = model.predict([text]) \n",
    "    #print('The Language is in', lang[0])\n",
    "    return 'The Text is in ' + lang[0] + ' Language'"
   ]
  },
  {
   "cell_type": "code",
   "execution_count": 62,
   "metadata": {},
   "outputs": [
    {
     "name": "stdout",
     "output_type": "stream",
     "text": [
      "Running on local URL:  http://127.0.0.1:7866\n",
      "\n",
      "Setting up a public link... we have recently upgraded the way public links are generated. If you encounter any problems, please report the issue and downgrade to gradio version 3.13.0\n",
      ".\n",
      "Running on public URL: https://bec0c786-e2ad-44b6.gradio.live\n",
      "\n",
      "This share link expires in 72 hours. For free permanent hosting and GPU upgrades (NEW!), check out Spaces: https://huggingface.co/spaces\n"
     ]
    },
    {
     "data": {
      "text/html": [
       "<div><iframe src=\"https://bec0c786-e2ad-44b6.gradio.live\" width=\"100%\" height=\"500\" allow=\"autoplay; camera; microphone; clipboard-read; clipboard-write;\" frameborder=\"0\" allowfullscreen></iframe></div>"
      ],
      "text/plain": [
       "<IPython.core.display.HTML object>"
      ]
     },
     "metadata": {},
     "output_type": "display_data"
    },
    {
     "data": {
      "text/plain": []
     },
     "execution_count": 62,
     "metadata": {},
     "output_type": "execute_result"
    }
   ],
   "source": [
    "interface = gr.Interface(fn=predict,\n",
    "                         inputs=gr.inputs.Textbox(lines=2, placeholder='Enter your text here...'), \n",
    "                         outputs='text')\n",
    "interface.launch(share=True)"
   ]
  },
  {
   "cell_type": "code",
   "execution_count": null,
   "metadata": {},
   "outputs": [],
   "source": [
    "import pickle\n",
    "# save the model to disk\n",
    "filename = 'finalized_model.h5'\n",
    "pickle.dump(model, open(filename, 'wb'))"
   ]
  }
 ],
 "metadata": {
  "colab": {
   "provenance": []
  },
  "kernelspec": {
   "display_name": "Python 3 (ipykernel)",
   "language": "python",
   "name": "python3"
  },
  "language_info": {
   "codemirror_mode": {
    "name": "ipython",
    "version": 3
   },
   "file_extension": ".py",
   "mimetype": "text/x-python",
   "name": "python",
   "nbconvert_exporter": "python",
   "pygments_lexer": "ipython3",
   "version": "3.9.12"
  }
 },
 "nbformat": 4,
 "nbformat_minor": 1
}
